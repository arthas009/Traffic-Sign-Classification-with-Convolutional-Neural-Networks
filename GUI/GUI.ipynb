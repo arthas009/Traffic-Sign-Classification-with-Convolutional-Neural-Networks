{
 "cells": [
  {
   "cell_type": "code",
   "execution_count": 10,
   "metadata": {},
   "outputs": [
    {
     "name": "stdout",
     "output_type": "stream",
     "text": [
      "<PIL.Image.Image image mode=RGB size=64x64 at 0x130BDCB4CF8>\n",
      "12\n",
      "<PIL.Image.Image image mode=RGB size=64x64 at 0x130BF41AB00>\n",
      "22\n"
     ]
    }
   ],
   "source": [
    "import keras\n",
    "import os\n",
    "from tkinter import *\n",
    "from PIL import ImageTk, Image\n",
    "from tkinter import filedialog\n",
    "import os\n",
    "from keras.models import load_model\n",
    "import h5py\n",
    "import tensorflow as tf\n",
    "from PIL import Image\n",
    "from skimage import transform\n",
    "from skimage import data\n",
    "import skimage as sm\n",
    "from skimage import color\n",
    "from skimage.color import rgb2gray\n",
    "from keras.preprocessing.image import ImageDataGenerator, load_img, img_to_array\n",
    "import numpy as np  \n",
    "\n",
    "#tkinter app\n",
    "root = Tk()\n",
    "root.geometry(\"550x300+300+150\")\n",
    "root.resizable(width=True, height=True)\n",
    "\n",
    "# open a image folder\n",
    "def openfn():\n",
    "    filename = filedialog.askopenfilename(title='open')\n",
    "    return filename\n",
    "#load image to screen and make prediction with saved CNN model\n",
    "def open_img():\n",
    "    x = openfn()\n",
    "    img = Image.open(x)\n",
    "    img = img.resize((64, 64), Image.ANTIALIAS)\n",
    "    img = ImageTk.PhotoImage(img)\n",
    "    panel = Label(root, image=img)\n",
    "    panel.image = img\n",
    "    panel.pack()\n",
    "    # you must specify the path according to your own model path.\n",
    "    model = load_model('../savedmodel/my_model.h5')\n",
    "    testimage = load_img(x,target_size=(64,64))\n",
    "    testimage = img_to_array(testimage)\n",
    "    testimage = np.expand_dims(testimage, axis=0)\n",
    "    prediction = model.predict(testimage)\n",
    "    #print the prediction\n",
    "    print(np.argmax(prediction[0]))\n",
    "    var = StringVar()\n",
    "    label = Label(root, textvariable=var, relief=RAISED )\n",
    "    # give the output to screen\n",
    "    var.set(\"This photo belongs to \"+str(np.argmax(prediction[0]))+\". class\")\n",
    "    label.pack()\n",
    "    \n",
    "btn = Button(root, text='open image', command=open_img).pack()\n",
    "\n",
    "root.mainloop()\n",
    "\n"
   ]
  },
  {
   "cell_type": "code",
   "execution_count": null,
   "metadata": {},
   "outputs": [],
   "source": []
  }
 ],
 "metadata": {
  "kernelspec": {
   "display_name": "Python 3",
   "language": "python",
   "name": "python3"
  },
  "language_info": {
   "codemirror_mode": {
    "name": "ipython",
    "version": 3
   },
   "file_extension": ".py",
   "mimetype": "text/x-python",
   "name": "python",
   "nbconvert_exporter": "python",
   "pygments_lexer": "ipython3",
   "version": "3.6.6"
  }
 },
 "nbformat": 4,
 "nbformat_minor": 2
}
